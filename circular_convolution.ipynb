{
  "cells": [
    {
      "cell_type": "code",
      "source": [
        "import numpy as np\n",
        "import math\n",
        "from math import e\n",
        "\n",
        "# Convolution\n",
        "\n",
        "x_n=[1,-2,1]\n",
        "h_n=[1,1,1,1,1,1]\n",
        "\n",
        "y_n=np.convolve(x_n,h_n)\n",
        "\n",
        "y_n\n"
      ],
      "outputs": [
        {
          "output_type": "execute_result",
          "data": {
            "text/plain": [
              "array([ 1, -1,  0,  0,  0,  0, -1,  1])"
            ]
          },
          "metadata": {},
          "execution_count": 1
        }
      ],
      "execution_count": 1,
      "metadata": {
        "collapsed": true,
        "jupyter": {
          "source_hidden": false,
          "outputs_hidden": false
        },
        "nteract": {
          "transient": {
            "deleting": false
          }
        },
        "execution": {
          "shell.execute_reply": "2021-06-23T14:50:49.785Z",
          "iopub.status.busy": "2021-06-23T14:50:49.744Z",
          "iopub.execute_input": "2021-06-23T14:50:49.753Z",
          "iopub.status.idle": "2021-06-23T14:50:49.776Z"
        }
      }
    },
    {
      "cell_type": "code",
      "execution_count": 2,
      "metadata": {},
      "outputs": [
        {
          "output_type": "execute_result",
          "data": {
            "text/plain": [
              "array([ 10. ,  -9. ,  22.5,   4.6,   3.7,   2.8,   0.6,  13.4, -18.7,\n",
              "        12.7,  -7. ,   5. ,  -3. ])"
            ]
          },
          "metadata": {},
          "execution_count": 2
        }
      ],
      "source": [
        "#cross correlation \n",
        "\n",
        "x_n=[2, -1,3.7,1,2,-3]\n",
        "y_n=[1, -1, 2, -2,4,1, -2,5]\n",
        "\n",
        "ans=np.correlate(x_n,y_n,mode='full')\n",
        "ans"
      ]
    },
    {
      "cell_type": "code",
      "execution_count": 17,
      "metadata": {},
      "outputs": [
        {
          "output_type": "execute_result",
          "data": {
            "text/plain": [
              "array([ 1,  4,  9, 11,  8,  3,  0,  0])"
            ]
          },
          "metadata": {},
          "execution_count": 17
        }
      ],
      "source": [
        "# circular convolution\n",
        "\n",
        "a=[1,2,3,0,0,0,0,0]\n",
        "b=[1,2,2,1,0,0,0,0]\n",
        "\n",
        "n = len(a)\n",
        "ans=np.convolve(np.tile(a, 2), b)[n:2 * n]\n",
        "\n",
        "\n",
        "ans"
      ]
    },
    {
      "cell_type": "code",
      "execution_count": 15,
      "metadata": {},
      "outputs": [
        {
          "output_type": "execute_result",
          "data": {
            "text/plain": [
              "(-1.8369701987210297e-16+1j)"
            ]
          },
          "metadata": {},
          "execution_count": 15
        }
      ],
      "source": [
        "# exponential \n",
        "\n",
        "\n",
        "ans= e**((0-1j)*math.pi*1.5)\n",
        "\n",
        "ans"
      ]
    },
    {
      "cell_type": "code",
      "execution_count": 26,
      "metadata": {},
      "outputs": [
        {
          "output_type": "stream",
          "name": "stdout",
          "text": [
            "(6+0j)\n(1.7071067811865475-4.121320343559643j)\n(-1-1j)\n(0.2928932188134524-0.12132034355964283j)\n0j\n(0.2928932188134524+0.12132034355964283j)\n(-1+1j)\n(1.7071067811865475+4.121320343559643j)\n"
          ]
        }
      ],
      "source": [
        "# N point DFT calculation\n",
        "\n",
        "# Make sure the list/array is of length N \n",
        "\n",
        "ans= np.fft.fft(b)\n",
        "\n",
        "for i in ans:\n",
        "    print(i)"
      ]
    }
  ],
  "metadata": {
    "kernel_info": {
      "name": "node_nteract"
    },
    "language_info": {
      "name": "javascript",
      "version": "3.8.5",
      "mimetype": "application/javascript",
      "file_extension": ".js"
    },
    "kernelspec": {
      "name": "python3",
      "display_name": "Python 3.8.5 64-bit ('base': conda)"
    },
    "nteract": {
      "version": "0.25.1"
    },
    "interpreter": {
      "hash": "fe018cfcc422d825bcb95dbfc5bdcb8375fa9baec5cbc0535c3d8fa1380d2765"
    }
  },
  "nbformat": 4,
  "nbformat_minor": 0
}